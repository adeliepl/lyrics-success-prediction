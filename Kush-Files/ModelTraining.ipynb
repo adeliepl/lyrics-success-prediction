{
 "cells": [
  {
   "cell_type": "code",
   "execution_count": 1,
   "id": "17725ef8-5991-4589-82de-0e9d78ce9eae",
   "metadata": {},
   "outputs": [],
   "source": [
    "import pandas as pd\n",
    "import numpy as np"
   ]
  },
  {
   "cell_type": "code",
   "execution_count": 3,
   "id": "e98d4067-4cd0-496f-900e-f177971980b6",
   "metadata": {},
   "outputs": [],
   "source": [
    "from sklearn.feature_extraction.text import TfidfVectorizer\n",
    "from sklearn.decomposition import TruncatedSVD\n",
    "from sklearn.ensemble import RandomForestClassifier\n",
    "from sklearn.model_selection import train_test_split, GridSearchCV\n",
    "from sklearn.metrics import classification_report\n",
    "import pickle"
   ]
  },
  {
   "cell_type": "code",
   "execution_count": 9,
   "id": "4bdc1007-914b-452f-81d4-fc5f05a42053",
   "metadata": {},
   "outputs": [],
   "source": [
    "df = pd.read_csv(\"Hit_1.csv\")\n",
    "df.drop(columns = df.columns[0], inplace = True)"
   ]
  },
  {
   "cell_type": "code",
   "execution_count": 11,
   "id": "00a50b1a-f1d0-4dab-84be-fcec2ac7b767",
   "metadata": {},
   "outputs": [
    {
     "data": {
      "text/html": [
       "<div>\n",
       "<style scoped>\n",
       "    .dataframe tbody tr th:only-of-type {\n",
       "        vertical-align: middle;\n",
       "    }\n",
       "\n",
       "    .dataframe tbody tr th {\n",
       "        vertical-align: top;\n",
       "    }\n",
       "\n",
       "    .dataframe thead th {\n",
       "        text-align: right;\n",
       "    }\n",
       "</style>\n",
       "<table border=\"1\" class=\"dataframe\">\n",
       "  <thead>\n",
       "    <tr style=\"text-align: right;\">\n",
       "      <th></th>\n",
       "      <th>SongID</th>\n",
       "      <th>Song</th>\n",
       "      <th>Performer</th>\n",
       "      <th>Lyrics</th>\n",
       "      <th>Cleaned_Lyrics</th>\n",
       "      <th>Hit</th>\n",
       "      <th>Tokens</th>\n",
       "      <th>Flesch_Reading_Ease</th>\n",
       "    </tr>\n",
       "  </thead>\n",
       "  <tbody>\n",
       "    <tr>\n",
       "      <th>0</th>\n",
       "      <td>'65 Love AffairPaul Davis</td>\n",
       "      <td>'65 Love Affair</td>\n",
       "      <td>Paul Davis</td>\n",
       "      <td>I was a car hop\\rYou were into be-bop\\rYou san...</td>\n",
       "      <td>car hop bebop sang wop diddy wop diddy wop doo...</td>\n",
       "      <td>0</td>\n",
       "      <td>['car', 'hop', 'bebop', 'sang', 'wop', 'diddy'...</td>\n",
       "      <td>-50.33</td>\n",
       "    </tr>\n",
       "    <tr>\n",
       "      <th>1</th>\n",
       "      <td>'Til My Baby Comes HomeLuther Vandross</td>\n",
       "      <td>'Til My Baby Comes Home</td>\n",
       "      <td>Luther Vandross</td>\n",
       "      <td>Theres a whole lot of girls\\r\\nmessin around\\r...</td>\n",
       "      <td>whole lot girls messin around trying get thing...</td>\n",
       "      <td>0</td>\n",
       "      <td>['whole', 'lot', 'girls', 'messin', 'around', ...</td>\n",
       "      <td>-27.32</td>\n",
       "    </tr>\n",
       "    <tr>\n",
       "      <th>2</th>\n",
       "      <td>'Til Summer Comes AroundKeith Urban</td>\n",
       "      <td>'Til Summer Comes Around</td>\n",
       "      <td>Keith Urban</td>\n",
       "      <td>Another long summer's come and gone\\r\\nI don't...</td>\n",
       "      <td>another long summer 's come gone know always e...</td>\n",
       "      <td>0</td>\n",
       "      <td>['another', 'long', 'summer', \"'s\", 'come', 'g...</td>\n",
       "      <td>-64.88</td>\n",
       "    </tr>\n",
       "    <tr>\n",
       "      <th>3</th>\n",
       "      <td>'Til You Do Me RightAfter 7</td>\n",
       "      <td>'Til You Do Me Right</td>\n",
       "      <td>After 7</td>\n",
       "      <td>I was in love with you\\r\\nAnd gave my heart to...</td>\n",
       "      <td>love gave heart best keep satisfied took love ...</td>\n",
       "      <td>0</td>\n",
       "      <td>['love', 'gave', 'heart', 'best', 'keep', 'sat...</td>\n",
       "      <td>-3.30</td>\n",
       "    </tr>\n",
       "    <tr>\n",
       "      <th>4</th>\n",
       "      <td>'TilThe Angels</td>\n",
       "      <td>'Til</td>\n",
       "      <td>The Angels</td>\n",
       "      <td>Due to copyright restrictions, we are not auth...</td>\n",
       "      <td>due copyright restrictions authorized display ...</td>\n",
       "      <td>0</td>\n",
       "      <td>['due', 'copyright', 'restrictions', 'authoriz...</td>\n",
       "      <td>6.17</td>\n",
       "    </tr>\n",
       "  </tbody>\n",
       "</table>\n",
       "</div>"
      ],
      "text/plain": [
       "                                   SongID                      Song  \\\n",
       "0               '65 Love AffairPaul Davis           '65 Love Affair   \n",
       "1  'Til My Baby Comes HomeLuther Vandross   'Til My Baby Comes Home   \n",
       "2     'Til Summer Comes AroundKeith Urban  'Til Summer Comes Around   \n",
       "3             'Til You Do Me RightAfter 7      'Til You Do Me Right   \n",
       "4                          'TilThe Angels                      'Til   \n",
       "\n",
       "         Performer                                             Lyrics  \\\n",
       "0       Paul Davis  I was a car hop\\rYou were into be-bop\\rYou san...   \n",
       "1  Luther Vandross  Theres a whole lot of girls\\r\\nmessin around\\r...   \n",
       "2      Keith Urban  Another long summer's come and gone\\r\\nI don't...   \n",
       "3          After 7  I was in love with you\\r\\nAnd gave my heart to...   \n",
       "4       The Angels  Due to copyright restrictions, we are not auth...   \n",
       "\n",
       "                                      Cleaned_Lyrics  Hit  \\\n",
       "0  car hop bebop sang wop diddy wop diddy wop doo...    0   \n",
       "1  whole lot girls messin around trying get thing...    0   \n",
       "2  another long summer 's come gone know always e...    0   \n",
       "3  love gave heart best keep satisfied took love ...    0   \n",
       "4  due copyright restrictions authorized display ...    0   \n",
       "\n",
       "                                              Tokens  Flesch_Reading_Ease  \n",
       "0  ['car', 'hop', 'bebop', 'sang', 'wop', 'diddy'...               -50.33  \n",
       "1  ['whole', 'lot', 'girls', 'messin', 'around', ...               -27.32  \n",
       "2  ['another', 'long', 'summer', \"'s\", 'come', 'g...               -64.88  \n",
       "3  ['love', 'gave', 'heart', 'best', 'keep', 'sat...                -3.30  \n",
       "4  ['due', 'copyright', 'restrictions', 'authoriz...                 6.17  "
      ]
     },
     "execution_count": 11,
     "metadata": {},
     "output_type": "execute_result"
    }
   ],
   "source": [
    "df.head()"
   ]
  },
  {
   "cell_type": "code",
   "execution_count": 13,
   "id": "ddf4ec6c-cad4-4d65-8d07-efd1f622b1aa",
   "metadata": {},
   "outputs": [],
   "source": [
    "df = df[[\"Cleaned_Lyrics\", \"Hit\"]]"
   ]
  },
  {
   "cell_type": "code",
   "execution_count": 15,
   "id": "46ca10e7-c844-4935-9b68-1474c04b6fec",
   "metadata": {},
   "outputs": [
    {
     "data": {
      "text/html": [
       "<div>\n",
       "<style scoped>\n",
       "    .dataframe tbody tr th:only-of-type {\n",
       "        vertical-align: middle;\n",
       "    }\n",
       "\n",
       "    .dataframe tbody tr th {\n",
       "        vertical-align: top;\n",
       "    }\n",
       "\n",
       "    .dataframe thead th {\n",
       "        text-align: right;\n",
       "    }\n",
       "</style>\n",
       "<table border=\"1\" class=\"dataframe\">\n",
       "  <thead>\n",
       "    <tr style=\"text-align: right;\">\n",
       "      <th></th>\n",
       "      <th>Cleaned_Lyrics</th>\n",
       "      <th>Hit</th>\n",
       "    </tr>\n",
       "  </thead>\n",
       "  <tbody>\n",
       "    <tr>\n",
       "      <th>0</th>\n",
       "      <td>car hop bebop sang wop diddy wop diddy wop doo...</td>\n",
       "      <td>0</td>\n",
       "    </tr>\n",
       "    <tr>\n",
       "      <th>1</th>\n",
       "      <td>whole lot girls messin around trying get thing...</td>\n",
       "      <td>0</td>\n",
       "    </tr>\n",
       "    <tr>\n",
       "      <th>2</th>\n",
       "      <td>another long summer 's come gone know always e...</td>\n",
       "      <td>0</td>\n",
       "    </tr>\n",
       "    <tr>\n",
       "      <th>3</th>\n",
       "      <td>love gave heart best keep satisfied took love ...</td>\n",
       "      <td>0</td>\n",
       "    </tr>\n",
       "    <tr>\n",
       "      <th>4</th>\n",
       "      <td>due copyright restrictions authorized display ...</td>\n",
       "      <td>0</td>\n",
       "    </tr>\n",
       "  </tbody>\n",
       "</table>\n",
       "</div>"
      ],
      "text/plain": [
       "                                      Cleaned_Lyrics  Hit\n",
       "0  car hop bebop sang wop diddy wop diddy wop doo...    0\n",
       "1  whole lot girls messin around trying get thing...    0\n",
       "2  another long summer 's come gone know always e...    0\n",
       "3  love gave heart best keep satisfied took love ...    0\n",
       "4  due copyright restrictions authorized display ...    0"
      ]
     },
     "execution_count": 15,
     "metadata": {},
     "output_type": "execute_result"
    }
   ],
   "source": [
    "df.head()"
   ]
  },
  {
   "cell_type": "code",
   "execution_count": 22,
   "id": "411d125e-6c50-4b58-b2df-fe7d077e3fc4",
   "metadata": {},
   "outputs": [],
   "source": [
    "df.dropna(inplace = True)"
   ]
  },
  {
   "cell_type": "code",
   "execution_count": 24,
   "id": "3613b1f7-2527-4a02-a7af-9f6248c4893c",
   "metadata": {},
   "outputs": [
    {
     "data": {
      "text/plain": [
       "Cleaned_Lyrics    0\n",
       "Hit               0\n",
       "dtype: int64"
      ]
     },
     "execution_count": 24,
     "metadata": {},
     "output_type": "execute_result"
    }
   ],
   "source": [
    "df.isna().sum()"
   ]
  },
  {
   "cell_type": "markdown",
   "id": "108714f3-7125-43d7-9dd2-ba66ead97ef5",
   "metadata": {},
   "source": [
    "# TF-IDF Feature Extraction"
   ]
  },
  {
   "cell_type": "code",
   "execution_count": 26,
   "id": "d29bb411-cff7-42f6-8589-841e1ba36937",
   "metadata": {},
   "outputs": [],
   "source": [
    "tfidf_vectorizer = TfidfVectorizer(max_features=5000, ngram_range=(1, 2))\n",
    "tfidf_features = tfidf_vectorizer.fit_transform(df[\"Cleaned_Lyrics\"])"
   ]
  },
  {
   "cell_type": "code",
   "execution_count": 28,
   "id": "543ec286-1d91-4fc5-9c13-df4c6c3f8013",
   "metadata": {},
   "outputs": [],
   "source": [
    "svd = TruncatedSVD(n_components=300, random_state=42)\n",
    "tfidf_reduced = svd.fit_transform(tfidf_features)"
   ]
  },
  {
   "cell_type": "code",
   "execution_count": 30,
   "id": "67ef0e73-30df-45cf-96c4-5ef11f19d271",
   "metadata": {},
   "outputs": [],
   "source": [
    "combined_features = tfidf_reduced"
   ]
  },
  {
   "cell_type": "code",
   "execution_count": 32,
   "id": "ff462c4f-48ee-430c-9ea0-13e50149bb00",
   "metadata": {},
   "outputs": [],
   "source": [
    "y = df[\"Hit\"]\n",
    "X_train, X_test, y_train, y_test = train_test_split(\n",
    "    combined_features, y, test_size=0.2, random_state=42, stratify=y\n",
    ")"
   ]
  },
  {
   "cell_type": "markdown",
   "id": "63feb788-50a7-424d-ac6e-f70947e3eaa3",
   "metadata": {},
   "source": [
    "# Train a Random Forest Classifie"
   ]
  },
  {
   "cell_type": "code",
   "execution_count": 37,
   "id": "43562b4c-6925-499b-9301-1c618bed855f",
   "metadata": {},
   "outputs": [],
   "source": [
    "rf_clf = RandomForestClassifier(n_estimators=100, random_state=42, class_weight=\"balanced\")\n",
    "rf_clf.fit(X_train, y_train)\n",
    "\n",
    "y_pred = rf_clf.predict(X_test)"
   ]
  },
  {
   "cell_type": "code",
   "execution_count": 39,
   "id": "ba434475-11c1-4077-ad64-2edde4e13842",
   "metadata": {},
   "outputs": [
    {
     "name": "stdout",
     "output_type": "stream",
     "text": [
      "              precision    recall  f1-score   support\n",
      "\n",
      "           0       0.91      1.00      0.95      2505\n",
      "           1       0.00      0.00      0.00       253\n",
      "\n",
      "    accuracy                           0.91      2758\n",
      "   macro avg       0.45      0.50      0.48      2758\n",
      "weighted avg       0.82      0.91      0.86      2758\n",
      "\n"
     ]
    }
   ],
   "source": [
    "print(classification_report(y_test, y_pred))"
   ]
  },
  {
   "cell_type": "code",
   "execution_count": 41,
   "id": "05b1a0b4-5d8b-4856-a23f-98b696064d0a",
   "metadata": {},
   "outputs": [
    {
     "name": "stdout",
     "output_type": "stream",
     "text": [
      "Best parameters: {'max_depth': 10, 'min_samples_split': 2, 'n_estimators': 100}\n"
     ]
    }
   ],
   "source": [
    "param_grid = {\n",
    "    'n_estimators': [100, 200],\n",
    "    'max_depth': [None, 10, 20],\n",
    "    'min_samples_split': [2, 5]\n",
    "}\n",
    "\n",
    "grid_search = GridSearchCV(RandomForestClassifier(random_state=42, class_weight=\"balanced\"),\n",
    "                           param_grid, cv=5, scoring=\"f1\", n_jobs=-1)\n",
    "grid_search.fit(X_train, y_train)\n",
    "print(\"Best parameters:\", grid_search.best_params_)\n"
   ]
  },
  {
   "cell_type": "code",
   "execution_count": 43,
   "id": "cc29f345-289c-485d-9f95-ac5e8348d790",
   "metadata": {},
   "outputs": [
    {
     "name": "stdout",
     "output_type": "stream",
     "text": [
      "              precision    recall  f1-score   support\n",
      "\n",
      "           0       0.91      1.00      0.95      2505\n",
      "           1       0.00      0.00      0.00       253\n",
      "\n",
      "    accuracy                           0.91      2758\n",
      "   macro avg       0.45      0.50      0.48      2758\n",
      "weighted avg       0.82      0.91      0.86      2758\n",
      "\n"
     ]
    }
   ],
   "source": [
    "y_pred_tuned = grid_search.best_estimator_.predict(X_test)\n",
    "print(classification_report(y_test, y_pred_tuned))"
   ]
  },
  {
   "cell_type": "markdown",
   "id": "3e358f5a-63ae-4372-b682-a6961d78dbff",
   "metadata": {},
   "source": [
    "# Reccurent Network"
   ]
  },
  {
   "cell_type": "code",
   "execution_count": 46,
   "id": "6e64eb38-cb6a-4786-a0fb-845f40c48e18",
   "metadata": {},
   "outputs": [
    {
     "name": "stderr",
     "output_type": "stream",
     "text": [
      "2025-03-16 02:30:36.761968: I tensorflow/core/platform/cpu_feature_guard.cc:210] This TensorFlow binary is optimized to use available CPU instructions in performance-critical operations.\n",
      "To enable the following instructions: AVX2 FMA, in other operations, rebuild TensorFlow with the appropriate compiler flags.\n"
     ]
    }
   ],
   "source": [
    "from tensorflow.keras.preprocessing.text import Tokenizer\n",
    "from tensorflow.keras.preprocessing.sequence import pad_sequences\n",
    "from tensorflow.keras.models import Sequential\n",
    "from tensorflow.keras.layers import Embedding, LSTM, Dense, Dropout\n",
    "from tensorflow.keras.callbacks import EarlyStopping\n",
    "from sklearn.model_selection import train_test_split"
   ]
  },
  {
   "cell_type": "code",
   "execution_count": 49,
   "id": "6be70f28-9af7-4c96-a120-7b666364e944",
   "metadata": {},
   "outputs": [],
   "source": [
    "texts = df[\"Cleaned_Lyrics\"].tolist()\n",
    "labels = df[\"Hit\"].tolist()"
   ]
  },
  {
   "cell_type": "code",
   "execution_count": 51,
   "id": "1cb8edf6-27e3-4e62-89ce-8ba7e27d8fe8",
   "metadata": {},
   "outputs": [],
   "source": [
    "max_words = 10000  # vocabulary size\n",
    "max_len = 300      # maximum sequence length\n",
    "tokenizer = Tokenizer(num_words=max_words, oov_token=\"<OOV>\")\n",
    "tokenizer.fit_on_texts(texts)\n",
    "sequences = tokenizer.texts_to_sequences(texts)\n",
    "padded_sequences = pad_sequences(sequences, maxlen=max_len, padding=\"post\", truncating=\"post\")"
   ]
  },
  {
   "cell_type": "code",
   "execution_count": 53,
   "id": "6f8ba490-5ebd-42de-9573-27e33f96131b",
   "metadata": {},
   "outputs": [],
   "source": [
    "X_train, X_test, y_train, y_test = train_test_split(padded_sequences, labels, test_size=0.2, random_state=42, stratify=labels)"
   ]
  },
  {
   "cell_type": "code",
   "execution_count": 57,
   "id": "84bd3ed4-455c-48f4-bd48-2219ac36f3f0",
   "metadata": {},
   "outputs": [
    {
     "name": "stderr",
     "output_type": "stream",
     "text": [
      "/opt/anaconda3/lib/python3.12/site-packages/keras/src/layers/core/embedding.py:90: UserWarning: Argument `input_length` is deprecated. Just remove it.\n",
      "  warnings.warn(\n"
     ]
    }
   ],
   "source": [
    "model = Sequential([\n",
    "    Embedding(max_words, 128, input_length=max_len),\n",
    "    LSTM(128, return_sequences=True),\n",
    "    Dropout(0.3),\n",
    "    LSTM(64),\n",
    "    Dropout(0.3),\n",
    "    Dense(32, activation=\"relu\"),\n",
    "    Dense(1, activation=\"sigmoid\")\n",
    "])"
   ]
  },
  {
   "cell_type": "code",
   "execution_count": 59,
   "id": "b75f4454-c937-4eda-9340-21d667f476f8",
   "metadata": {},
   "outputs": [
    {
     "data": {
      "text/html": [
       "<pre style=\"white-space:pre;overflow-x:auto;line-height:normal;font-family:Menlo,'DejaVu Sans Mono',consolas,'Courier New',monospace\"><span style=\"font-weight: bold\">Model: \"sequential\"</span>\n",
       "</pre>\n"
      ],
      "text/plain": [
       "\u001b[1mModel: \"sequential\"\u001b[0m\n"
      ]
     },
     "metadata": {},
     "output_type": "display_data"
    },
    {
     "data": {
      "text/html": [
       "<pre style=\"white-space:pre;overflow-x:auto;line-height:normal;font-family:Menlo,'DejaVu Sans Mono',consolas,'Courier New',monospace\">┏━━━━━━━━━━━━━━━━━━━━━━━━━━━━━━━━━┳━━━━━━━━━━━━━━━━━━━━━━━━┳━━━━━━━━━━━━━━━┓\n",
       "┃<span style=\"font-weight: bold\"> Layer (type)                    </span>┃<span style=\"font-weight: bold\"> Output Shape           </span>┃<span style=\"font-weight: bold\">       Param # </span>┃\n",
       "┡━━━━━━━━━━━━━━━━━━━━━━━━━━━━━━━━━╇━━━━━━━━━━━━━━━━━━━━━━━━╇━━━━━━━━━━━━━━━┩\n",
       "│ embedding (<span style=\"color: #0087ff; text-decoration-color: #0087ff\">Embedding</span>)           │ ?                      │   <span style=\"color: #00af00; text-decoration-color: #00af00\">0</span> (unbuilt) │\n",
       "├─────────────────────────────────┼────────────────────────┼───────────────┤\n",
       "│ lstm (<span style=\"color: #0087ff; text-decoration-color: #0087ff\">LSTM</span>)                     │ ?                      │   <span style=\"color: #00af00; text-decoration-color: #00af00\">0</span> (unbuilt) │\n",
       "├─────────────────────────────────┼────────────────────────┼───────────────┤\n",
       "│ dropout (<span style=\"color: #0087ff; text-decoration-color: #0087ff\">Dropout</span>)               │ ?                      │             <span style=\"color: #00af00; text-decoration-color: #00af00\">0</span> │\n",
       "├─────────────────────────────────┼────────────────────────┼───────────────┤\n",
       "│ lstm_1 (<span style=\"color: #0087ff; text-decoration-color: #0087ff\">LSTM</span>)                   │ ?                      │   <span style=\"color: #00af00; text-decoration-color: #00af00\">0</span> (unbuilt) │\n",
       "├─────────────────────────────────┼────────────────────────┼───────────────┤\n",
       "│ dropout_1 (<span style=\"color: #0087ff; text-decoration-color: #0087ff\">Dropout</span>)             │ ?                      │             <span style=\"color: #00af00; text-decoration-color: #00af00\">0</span> │\n",
       "├─────────────────────────────────┼────────────────────────┼───────────────┤\n",
       "│ dense (<span style=\"color: #0087ff; text-decoration-color: #0087ff\">Dense</span>)                   │ ?                      │   <span style=\"color: #00af00; text-decoration-color: #00af00\">0</span> (unbuilt) │\n",
       "├─────────────────────────────────┼────────────────────────┼───────────────┤\n",
       "│ dense_1 (<span style=\"color: #0087ff; text-decoration-color: #0087ff\">Dense</span>)                 │ ?                      │   <span style=\"color: #00af00; text-decoration-color: #00af00\">0</span> (unbuilt) │\n",
       "└─────────────────────────────────┴────────────────────────┴───────────────┘\n",
       "</pre>\n"
      ],
      "text/plain": [
       "┏━━━━━━━━━━━━━━━━━━━━━━━━━━━━━━━━━┳━━━━━━━━━━━━━━━━━━━━━━━━┳━━━━━━━━━━━━━━━┓\n",
       "┃\u001b[1m \u001b[0m\u001b[1mLayer (type)                   \u001b[0m\u001b[1m \u001b[0m┃\u001b[1m \u001b[0m\u001b[1mOutput Shape          \u001b[0m\u001b[1m \u001b[0m┃\u001b[1m \u001b[0m\u001b[1m      Param #\u001b[0m\u001b[1m \u001b[0m┃\n",
       "┡━━━━━━━━━━━━━━━━━━━━━━━━━━━━━━━━━╇━━━━━━━━━━━━━━━━━━━━━━━━╇━━━━━━━━━━━━━━━┩\n",
       "│ embedding (\u001b[38;5;33mEmbedding\u001b[0m)           │ ?                      │   \u001b[38;5;34m0\u001b[0m (unbuilt) │\n",
       "├─────────────────────────────────┼────────────────────────┼───────────────┤\n",
       "│ lstm (\u001b[38;5;33mLSTM\u001b[0m)                     │ ?                      │   \u001b[38;5;34m0\u001b[0m (unbuilt) │\n",
       "├─────────────────────────────────┼────────────────────────┼───────────────┤\n",
       "│ dropout (\u001b[38;5;33mDropout\u001b[0m)               │ ?                      │             \u001b[38;5;34m0\u001b[0m │\n",
       "├─────────────────────────────────┼────────────────────────┼───────────────┤\n",
       "│ lstm_1 (\u001b[38;5;33mLSTM\u001b[0m)                   │ ?                      │   \u001b[38;5;34m0\u001b[0m (unbuilt) │\n",
       "├─────────────────────────────────┼────────────────────────┼───────────────┤\n",
       "│ dropout_1 (\u001b[38;5;33mDropout\u001b[0m)             │ ?                      │             \u001b[38;5;34m0\u001b[0m │\n",
       "├─────────────────────────────────┼────────────────────────┼───────────────┤\n",
       "│ dense (\u001b[38;5;33mDense\u001b[0m)                   │ ?                      │   \u001b[38;5;34m0\u001b[0m (unbuilt) │\n",
       "├─────────────────────────────────┼────────────────────────┼───────────────┤\n",
       "│ dense_1 (\u001b[38;5;33mDense\u001b[0m)                 │ ?                      │   \u001b[38;5;34m0\u001b[0m (unbuilt) │\n",
       "└─────────────────────────────────┴────────────────────────┴───────────────┘\n"
      ]
     },
     "metadata": {},
     "output_type": "display_data"
    },
    {
     "data": {
      "text/html": [
       "<pre style=\"white-space:pre;overflow-x:auto;line-height:normal;font-family:Menlo,'DejaVu Sans Mono',consolas,'Courier New',monospace\"><span style=\"font-weight: bold\"> Total params: </span><span style=\"color: #00af00; text-decoration-color: #00af00\">0</span> (0.00 B)\n",
       "</pre>\n"
      ],
      "text/plain": [
       "\u001b[1m Total params: \u001b[0m\u001b[38;5;34m0\u001b[0m (0.00 B)\n"
      ]
     },
     "metadata": {},
     "output_type": "display_data"
    },
    {
     "data": {
      "text/html": [
       "<pre style=\"white-space:pre;overflow-x:auto;line-height:normal;font-family:Menlo,'DejaVu Sans Mono',consolas,'Courier New',monospace\"><span style=\"font-weight: bold\"> Trainable params: </span><span style=\"color: #00af00; text-decoration-color: #00af00\">0</span> (0.00 B)\n",
       "</pre>\n"
      ],
      "text/plain": [
       "\u001b[1m Trainable params: \u001b[0m\u001b[38;5;34m0\u001b[0m (0.00 B)\n"
      ]
     },
     "metadata": {},
     "output_type": "display_data"
    },
    {
     "data": {
      "text/html": [
       "<pre style=\"white-space:pre;overflow-x:auto;line-height:normal;font-family:Menlo,'DejaVu Sans Mono',consolas,'Courier New',monospace\"><span style=\"font-weight: bold\"> Non-trainable params: </span><span style=\"color: #00af00; text-decoration-color: #00af00\">0</span> (0.00 B)\n",
       "</pre>\n"
      ],
      "text/plain": [
       "\u001b[1m Non-trainable params: \u001b[0m\u001b[38;5;34m0\u001b[0m (0.00 B)\n"
      ]
     },
     "metadata": {},
     "output_type": "display_data"
    }
   ],
   "source": [
    "model.compile(loss=\"binary_crossentropy\", optimizer=\"adam\", metrics=[\"accuracy\"])\n",
    "model.summary()"
   ]
  },
  {
   "cell_type": "code",
   "execution_count": 61,
   "id": "25bcf82a-fed7-4bc7-bb3a-9604d9df8661",
   "metadata": {},
   "outputs": [
    {
     "name": "stdout",
     "output_type": "stream",
     "text": [
      "Epoch 1/10\n",
      "\u001b[1m276/276\u001b[0m \u001b[32m━━━━━━━━━━━━━━━━━━━━\u001b[0m\u001b[37m\u001b[0m \u001b[1m74s\u001b[0m 254ms/step - accuracy: 0.8986 - loss: 0.3416 - val_accuracy: 0.9035 - val_loss: 0.3183\n",
      "Epoch 2/10\n",
      "\u001b[1m276/276\u001b[0m \u001b[32m━━━━━━━━━━━━━━━━━━━━\u001b[0m\u001b[37m\u001b[0m \u001b[1m81s\u001b[0m 292ms/step - accuracy: 0.9028 - loss: 0.3235 - val_accuracy: 0.9035 - val_loss: 0.3183\n",
      "Epoch 3/10\n",
      "\u001b[1m276/276\u001b[0m \u001b[32m━━━━━━━━━━━━━━━━━━━━\u001b[0m\u001b[37m\u001b[0m \u001b[1m72s\u001b[0m 262ms/step - accuracy: 0.9128 - loss: 0.3006 - val_accuracy: 0.9035 - val_loss: 0.3190\n",
      "Epoch 4/10\n",
      "\u001b[1m276/276\u001b[0m \u001b[32m━━━━━━━━━━━━━━━━━━━━\u001b[0m\u001b[37m\u001b[0m \u001b[1m78s\u001b[0m 283ms/step - accuracy: 0.9094 - loss: 0.3077 - val_accuracy: 0.9035 - val_loss: 0.3231\n",
      "Epoch 5/10\n",
      "\u001b[1m276/276\u001b[0m \u001b[32m━━━━━━━━━━━━━━━━━━━━\u001b[0m\u001b[37m\u001b[0m \u001b[1m84s\u001b[0m 305ms/step - accuracy: 0.9098 - loss: 0.3040 - val_accuracy: 0.9035 - val_loss: 0.3187\n"
     ]
    },
    {
     "data": {
      "text/plain": [
       "<keras.src.callbacks.history.History at 0x14f167500>"
      ]
     },
     "execution_count": 61,
     "metadata": {},
     "output_type": "execute_result"
    }
   ],
   "source": [
    "early_stop = EarlyStopping(monitor='val_loss', patience=3)\n",
    "model.fit(X_train, np.array(y_train), epochs=10, batch_size=32, validation_split=0.2, callbacks=[early_stop])"
   ]
  },
  {
   "cell_type": "code",
   "execution_count": 63,
   "id": "68876ddb-6156-46ea-93bc-e9d9d7be2811",
   "metadata": {},
   "outputs": [
    {
     "name": "stdout",
     "output_type": "stream",
     "text": [
      "\u001b[1m87/87\u001b[0m \u001b[32m━━━━━━━━━━━━━━━━━━━━\u001b[0m\u001b[37m\u001b[0m \u001b[1m6s\u001b[0m 73ms/step - accuracy: 0.9055 - loss: 0.3140\n",
      "Test Accuracy (CNN): 0.9083\n"
     ]
    }
   ],
   "source": [
    "loss, accuracy = model.evaluate(X_test, np.array(y_test))\n",
    "print(f\"Test Accuracy (CNN): {accuracy:.4f}\")"
   ]
  },
  {
   "cell_type": "code",
   "execution_count": 65,
   "id": "58eb0501-e0b0-4c54-aa9b-e245aef9ff89",
   "metadata": {},
   "outputs": [
    {
     "name": "stdout",
     "output_type": "stream",
     "text": [
      "\u001b[1m87/87\u001b[0m \u001b[32m━━━━━━━━━━━━━━━━━━━━\u001b[0m\u001b[37m\u001b[0m \u001b[1m7s\u001b[0m 74ms/step\n",
      "              precision    recall  f1-score   support\n",
      "\n",
      "           0       0.91      1.00      0.95      2505\n",
      "           1       0.00      0.00      0.00       253\n",
      "\n",
      "    accuracy                           0.91      2758\n",
      "   macro avg       0.45      0.50      0.48      2758\n",
      "weighted avg       0.82      0.91      0.86      2758\n",
      "\n"
     ]
    },
    {
     "name": "stderr",
     "output_type": "stream",
     "text": [
      "/opt/anaconda3/lib/python3.12/site-packages/sklearn/metrics/_classification.py:1509: UndefinedMetricWarning: Precision is ill-defined and being set to 0.0 in labels with no predicted samples. Use `zero_division` parameter to control this behavior.\n",
      "  _warn_prf(average, modifier, f\"{metric.capitalize()} is\", len(result))\n",
      "/opt/anaconda3/lib/python3.12/site-packages/sklearn/metrics/_classification.py:1509: UndefinedMetricWarning: Precision is ill-defined and being set to 0.0 in labels with no predicted samples. Use `zero_division` parameter to control this behavior.\n",
      "  _warn_prf(average, modifier, f\"{metric.capitalize()} is\", len(result))\n",
      "/opt/anaconda3/lib/python3.12/site-packages/sklearn/metrics/_classification.py:1509: UndefinedMetricWarning: Precision is ill-defined and being set to 0.0 in labels with no predicted samples. Use `zero_division` parameter to control this behavior.\n",
      "  _warn_prf(average, modifier, f\"{metric.capitalize()} is\", len(result))\n"
     ]
    }
   ],
   "source": [
    "y_prob = model.predict(X_test)\n",
    "\n",
    "# Convert probabilities to class labels (assuming binary classification with threshold 0.5)\n",
    "y_pred = (y_prob > 0.5).astype(int)\n",
    "\n",
    "\n",
    "print(classification_report(y_test, y_pred))"
   ]
  },
  {
   "cell_type": "code",
   "execution_count": null,
   "id": "a5f4c1d6-61d4-4d1a-b857-79d026de9e6e",
   "metadata": {},
   "outputs": [],
   "source": []
  }
 ],
 "metadata": {
  "kernelspec": {
   "display_name": "Python 3 (ipykernel)",
   "language": "python",
   "name": "python3"
  },
  "language_info": {
   "codemirror_mode": {
    "name": "ipython",
    "version": 3
   },
   "file_extension": ".py",
   "mimetype": "text/x-python",
   "name": "python",
   "nbconvert_exporter": "python",
   "pygments_lexer": "ipython3",
   "version": "3.12.4"
  }
 },
 "nbformat": 4,
 "nbformat_minor": 5
}
